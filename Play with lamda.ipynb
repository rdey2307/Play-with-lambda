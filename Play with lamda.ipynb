{
 "cells": [
  {
   "cell_type": "code",
   "execution_count": 1,
   "id": "cb32ad54",
   "metadata": {},
   "outputs": [],
   "source": [
    "#Write a Python program to create a lambda function that adds 25 to a given number passed in as an argument"
   ]
  },
  {
   "cell_type": "code",
   "execution_count": 2,
   "id": "c5b7a460",
   "metadata": {},
   "outputs": [],
   "source": [
    "x=10\n",
    "v=lambda y:y+25"
   ]
  },
  {
   "cell_type": "code",
   "execution_count": 3,
   "id": "4e2d987e",
   "metadata": {},
   "outputs": [
    {
     "name": "stdout",
     "output_type": "stream",
     "text": [
      "35\n"
     ]
    }
   ],
   "source": [
    "print(v(x))"
   ]
  },
  {
   "cell_type": "code",
   "execution_count": null,
   "id": "9fd3ccd8",
   "metadata": {},
   "outputs": [],
   "source": []
  },
  {
   "cell_type": "code",
   "execution_count": null,
   "id": "effc7a6a",
   "metadata": {},
   "outputs": [],
   "source": []
  }
 ],
 "metadata": {
  "kernelspec": {
   "display_name": "Python 3 (ipykernel)",
   "language": "python",
   "name": "python3"
  },
  "language_info": {
   "codemirror_mode": {
    "name": "ipython",
    "version": 3
   },
   "file_extension": ".py",
   "mimetype": "text/x-python",
   "name": "python",
   "nbconvert_exporter": "python",
   "pygments_lexer": "ipython3",
   "version": "3.9.7"
  }
 },
 "nbformat": 4,
 "nbformat_minor": 5
}
